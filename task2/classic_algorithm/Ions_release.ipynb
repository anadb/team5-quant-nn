{
 "cells": [
  {
   "cell_type": "code",
   "execution_count": 7,
   "id": "5e874225",
   "metadata": {},
   "outputs": [],
   "source": [
    "import numpy as np\n",
    "import pandas as pd\n",
    "from PIL import Image\n",
    "\n",
    "from sklearn.cluster import DBSCAN\n",
    "\n",
    "import os\n",
    "from os import path\n",
    "import tqdm"
   ]
  },
  {
   "cell_type": "code",
   "execution_count": null,
   "id": "76c8b15b",
   "metadata": {},
   "outputs": [],
   "source": []
  },
  {
   "cell_type": "code",
   "execution_count": 2,
   "id": "4f270b6d",
   "metadata": {},
   "outputs": [],
   "source": [
    "# Set the number of ions on images\n",
    "N_ions = 4"
   ]
  },
  {
   "cell_type": "code",
   "execution_count": 5,
   "id": "83b50c70",
   "metadata": {},
   "outputs": [],
   "source": [
    "def process_image(imgpath):\n",
    "    img = Image.open(imgpath)\n",
    "    img.load()\n",
    "    img2 = np.mean(np.asarray(img, dtype=\"int32\"), axis=2)\n",
    "    # Threshold the image\n",
    "    x, y = np.where(img2 > 1.1 * np.median(img2))\n",
    "    \n",
    "    # Find atoms as clusters. Detect clusters by their density.\n",
    "    db = DBSCAN(eps=2, min_samples=10).fit(np.column_stack(((x, y))))\n",
    "    \n",
    "    data = np.zeros(N_ions, dtype=\"int32\")\n",
    "\n",
    "    labels = db.labels_\n",
    "    for label in set(labels):\n",
    "        if label == -1:\n",
    "            continue\n",
    "        \n",
    "        # determine position of this cluster and determine a number o ion\n",
    "        xi = x[labels==label]\n",
    "        center_x = np.mean(xi)\n",
    "        n_this = (center_x - np.min(x)) // ((np.max(x) - np.min(x)) // N_ions)\n",
    "        data[int(n_this)] = 1\n",
    "    return data"
   ]
  },
  {
   "cell_type": "code",
   "execution_count": 6,
   "id": "f61f4b4b",
   "metadata": {
    "scrolled": true
   },
   "outputs": [],
   "source": [
    "filenames = []\n",
    "qubit_states = []\n",
    "\n",
    "work_dir = path.join(os.getcwd(), 'Входные данные')\n",
    "for f in tqdm.tqdm(os.listdir(work_dir)):\n",
    "    if not f.endswith('.png'):\n",
    "        continue\n",
    "    full_path = path.join(work_dir, f)\n",
    "    if path.isdir(full_path): continue\n",
    "    states = process_image(full_path)\n",
    "    filenames.append(f)\n",
    "    qubit_states.append(states)\n",
    "    \n",
    "qubit_states = np.array(qubit_states)\n",
    "save_dict = {'file number': list(range(1, len(filenames) + 1)), 'file name': filenames}\n",
    "for i in range(N_ions):\n",
    "    save_dict[f'qubit {i + 1} state'] = qubit_states[:, i]\n",
    "df = pd.DataFrame(save_dict)\n",
    "df.to_csv('labeled_ions_team_number.csv', header=True, index=False)"
   ]
  }
 ],
 "metadata": {
  "kernelspec": {
   "display_name": "Python 3 (ipykernel)",
   "language": "python",
   "name": "python3"
  },
  "language_info": {
   "codemirror_mode": {
    "name": "ipython",
    "version": 3
   },
   "file_extension": ".py",
   "mimetype": "text/x-python",
   "name": "python",
   "nbconvert_exporter": "python",
   "pygments_lexer": "ipython3",
   "version": "3.8.8"
  }
 },
 "nbformat": 4,
 "nbformat_minor": 5
}
